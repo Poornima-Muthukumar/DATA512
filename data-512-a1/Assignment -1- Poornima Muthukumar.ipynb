{
 "cells": [
  {
   "cell_type": "markdown",
   "id": "d0a03cae",
   "metadata": {},
   "source": [
    "### STEP 1 - Data Acquisition \n",
    "\n",
    "In order to collect wikipedia traffic data from 2008-2021, we collect data from two different publicly available API endpoints. The legacy pagecount API and the pageviews API.\n",
    "\n",
    "We collect desktop and mobile traffic data from Dec 2007 - July 2016 from the legacy pagecounts API.\n",
    "\n",
    "We collect desktop, mobile web and mobile app traffic data from July 2015 - August 2021 from the pageviews API. \n",
    "\n",
    "We store the results in 5 separate json data files. We specifically filter out results from web crawlers and spiders by setting agent to user. "
   ]
  },
  {
   "cell_type": "code",
   "execution_count": 1,
   "id": "7119357d",
   "metadata": {},
   "outputs": [],
   "source": [
    "import json\n",
    "import requests"
   ]
  },
  {
   "cell_type": "code",
   "execution_count": 2,
   "id": "eed9982d",
   "metadata": {},
   "outputs": [],
   "source": [
    "# desktop and mobile traffic data (dec2007-July2016)\n",
    "endpoint_pagecounts = 'https://wikimedia.org/api/rest_v1/metrics/legacy/pagecounts/aggregate/{project}/{access-site}/{granularity}/{start}/{end}'\n",
    "\n",
    "# desktop, mobile web and mobile app traffic (July2015 - last month)\n",
    "endpoint_pageviews = 'https://wikimedia.org/api/rest_v1/metrics/pageviews/aggregate/{project}/{access}/{agent}/{granularity}/{start}/{end}'"
   ]
  },
  {
   "cell_type": "code",
   "execution_count": 3,
   "id": "f68a01a5",
   "metadata": {},
   "outputs": [],
   "source": [
    "pagecounts_desktop_all = {\"project\" : \"en.wikipedia.org\",\n",
    "                     \"access-site\" : \"desktop-site\",\n",
    "                     \"granularity\" : \"monthly\",\n",
    "                     \"start\" : \"2008010100\",\n",
    "                     \"end\" : \"2016080100\"\n",
    "                    }\n",
    "\n",
    "    \n",
    "pagecounts_mobile_all = {\"project\" : \"en.wikipedia.org\",\n",
    "                     \"access-site\" : \"mobile-site\",\n",
    "                     \"granularity\" : \"monthly\",\n",
    "                     \"start\" : \"2008010100\",\n",
    "                     \"end\" : \"2016080100\"\n",
    "                    }\n",
    "\n",
    "\n",
    "pageviews_desktop_all = {\"project\" : \"en.wikipedia.org\",\n",
    "                      \"access\" : \"desktop\",\n",
    "                      \"agent\" : \"user\",\n",
    "                      \"granularity\" : \"monthly\",\n",
    "                      \"start\" : \"2015070100\",\n",
    "                       \"end\" : '2021090100'\n",
    "                    }\n",
    "\n",
    "pageviews_mobile_web_all = {\"project\" : \"en.wikipedia.org\",\n",
    "                      \"access\" : \"mobile-web\",\n",
    "                      \"agent\" : \"user\",\n",
    "                      \"granularity\" : \"monthly\",\n",
    "                      \"start\" : \"2015070100\",\n",
    "                       \"end\" : '2021090100'\n",
    "                     }\n",
    "\n",
    "pageviews_mobile_app_all = {\"project\" : \"en.wikipedia.org\",\n",
    "                       \"access\" : \"mobile-app\",\n",
    "                       \"agent\" : \"user\",\n",
    "                       \"granularity\" : \"monthly\",\n",
    "                       \"start\" : \"2015070100\",\n",
    "                       \"end\" : '2021090100'\n",
    "                    }"
   ]
  },
  {
   "cell_type": "markdown",
   "id": "8b4c56b2",
   "metadata": {},
   "source": [
    "### Custom user headers"
   ]
  },
  {
   "cell_type": "code",
   "execution_count": 4,
   "id": "1c8032bc",
   "metadata": {},
   "outputs": [],
   "source": [
    "headers = {\n",
    "    'User-Agent': 'https://github.com/poornima-muthukumar',\n",
    "    'From': 'muthupoo@uw.edu'\n",
    "}"
   ]
  },
  {
   "cell_type": "code",
   "execution_count": 5,
   "id": "b72d237a",
   "metadata": {},
   "outputs": [],
   "source": [
    "def api_call(endpoint, parameters):\n",
    "    call = requests.get(endpoint.format(**parameters), headers=headers)\n",
    "    response = call.json()\n",
    "    \n",
    "    return response"
   ]
  },
  {
   "cell_type": "code",
   "execution_count": 6,
   "id": "8bd0ba59",
   "metadata": {},
   "outputs": [],
   "source": [
    "pagecounts_desktop = api_call(endpoint_pagecounts, pagecounts_desktop_all)\n",
    "pagecounts_mobile = api_call(endpoint_pagecounts, pagecounts_mobile_all)\n",
    "pageviews_desktop = api_call(endpoint_pageviews, pageviews_desktop_all)\n",
    "pageviews_mobile_web = api_call(endpoint_pageviews, pageviews_mobile_web_all)\n",
    "pageviews_mobile_app = api_call(endpoint_pageviews, pageviews_mobile_app_all)"
   ]
  },
  {
   "cell_type": "code",
   "execution_count": 7,
   "id": "0354308f",
   "metadata": {},
   "outputs": [],
   "source": [
    "with open('pagecounts_desktop-site_200801-201607.json', 'w') as file:\n",
    "    json.dump(pagecounts_desktop, file)\n",
    "with open('pagecounts_mobile-site_200801-201607.json', 'w') as file:\n",
    "    json.dump(pagecounts_mobile, file)\n",
    "with open('pageviews_desktop-site_201507-202108.json', 'w') as file:\n",
    "    json.dump(pageviews_desktop, file)\n",
    "with open('pageviews_mobile-web-site_201507-202108.json', 'w') as file:\n",
    "    json.dump(pageviews_mobile_web, file)\n",
    "with open('pageviews_mobile-app-site_201507-202108.json', 'w') as file:\n",
    "    json.dump(pageviews_mobile_app, file)"
   ]
  },
  {
   "cell_type": "markdown",
   "id": "2f688f2d",
   "metadata": {},
   "source": [
    "### STEP 2 - Data Processing\n",
    "\n",
    "We will perform some data processing on these data files to prepare them for analysis.  \n",
    "\n",
    "1. Combine monthly values for mobile app and mobile web from pageview api.\n",
    "2. Separate the value of timestamp into (YYYY) and (MM) and discard (DDHH)\n",
    "3. If no traffic is available for a given access method, mark it as 0. \n",
    "4. Combile all data in one file for analysis. "
   ]
  },
  {
   "cell_type": "code",
   "execution_count": 8,
   "id": "38a725d6",
   "metadata": {},
   "outputs": [],
   "source": [
    "import pandas as pd"
   ]
  },
  {
   "cell_type": "markdown",
   "id": "dc621da2",
   "metadata": {},
   "source": [
    "### Convert to data frame to manipualte data."
   ]
  },
  {
   "cell_type": "code",
   "execution_count": 9,
   "id": "91f14dbc",
   "metadata": {},
   "outputs": [],
   "source": [
    "pagecount_desktop_df = pd.DataFrame.from_dict(pagecounts_desktop['items'])\n",
    "pagecounts_mobile_df = pd.DataFrame.from_dict(pagecounts_mobile['items'])\n",
    "pageviews_desktop_df = pd.DataFrame.from_dict(pageviews_desktop['items'])\n",
    "pageviews_mobile_web_df = pd.DataFrame.from_dict(pageviews_mobile_web['items'])\n",
    "pageviews_mobile_app_df = pd.DataFrame.from_dict(pageviews_mobile_app['items'])"
   ]
  },
  {
   "cell_type": "code",
   "execution_count": 10,
   "id": "e640353f",
   "metadata": {},
   "outputs": [],
   "source": [
    "pagecount_desktop_df.rename(columns={'count': 'pagecount_desktop_views'}, inplace='True')\n",
    "pagecounts_mobile_df.rename(columns={'count': 'pagecount_mobile_views'}, inplace='True')\n",
    "pageviews_desktop_df.rename(columns={'views': 'pageviews_desktop_views'}, inplace='True')\n",
    "pageviews_mobile_web_df.rename(columns={'views': 'pageviews_mobile_web_views'}, inplace='True')\n",
    "pageviews_mobile_app_df.rename(columns={'views': 'pageviews_mobile_app_views'}, inplace='True')"
   ]
  },
  {
   "cell_type": "markdown",
   "id": "a2510130",
   "metadata": {},
   "source": [
    "### 3. If no traffic is available for a given access method, mark it as 0. "
   ]
  },
  {
   "cell_type": "code",
   "execution_count": 11,
   "id": "d7f4c122",
   "metadata": {},
   "outputs": [],
   "source": [
    "data = pagecount_desktop_df[['timestamp', 'pagecount_desktop_views']]\n",
    "data = data.merge(pagecounts_mobile_df[['timestamp', 'pagecount_mobile_views']], how = 'outer', on='timestamp')\n",
    "data = data.merge(pageviews_desktop_df[['timestamp', 'pageviews_desktop_views']], how = 'outer', on='timestamp')\n",
    "data = data.merge(pageviews_mobile_web_df[['timestamp', 'pageviews_mobile_web_views']], how = 'outer', on='timestamp')\n",
    "data = data.merge(pageviews_mobile_app_df[['timestamp', 'pageviews_mobile_app_views']], how = 'outer', on='timestamp')"
   ]
  },
  {
   "cell_type": "code",
   "execution_count": 12,
   "id": "707b6714",
   "metadata": {},
   "outputs": [],
   "source": [
    "data['pagecount_desktop_views'].fillna(0, inplace=True)\n",
    "data['pagecount_mobile_views'].fillna(0,  inplace=True)\n",
    "data['pageviews_desktop_views'].fillna(0,  inplace=True)\n",
    "data['pageviews_mobile_web_views'].fillna(0,  inplace=True)\n",
    "data['pageviews_mobile_app_views'].fillna(0,  inplace=True)"
   ]
  },
  {
   "cell_type": "markdown",
   "id": "28459b20",
   "metadata": {},
   "source": [
    "### 2. Separate the value of timestamp into (YYYY) and (MM) and discard (DDHH)"
   ]
  },
  {
   "cell_type": "code",
   "execution_count": 13,
   "id": "62971d1c",
   "metadata": {},
   "outputs": [],
   "source": [
    "data_merged = pd.DataFrame({'year':data['timestamp'].str[0:4],  \n",
    "                                  'month':data['timestamp'].str[4:6],                                   \n",
    "                                  'pagecount_all_views':data['pagecount_desktop_views']+data['pagecount_mobile_views'],\n",
    "                                  'pagecount_desktop_views':data['pagecount_desktop_views'], \n",
    "                                  'pagecount_mobile_views':data['pagecount_mobile_views'],\n",
    "                                  'pageview_all_views':data['pageviews_desktop_views']+data['pageviews_mobile_app_views']+data['pageviews_mobile_web_views'],\n",
    "                                  'pageview_desktop_views':data['pageviews_desktop_views'],\n",
    "                                  'pageview_mobile_views':data['pageviews_mobile_app_views']+data['pageviews_mobile_web_views']})"
   ]
  },
  {
   "cell_type": "code",
   "execution_count": 14,
   "id": "97d8378f",
   "metadata": {},
   "outputs": [
    {
     "data": {
      "text/html": [
       "<div>\n",
       "<style scoped>\n",
       "    .dataframe tbody tr th:only-of-type {\n",
       "        vertical-align: middle;\n",
       "    }\n",
       "\n",
       "    .dataframe tbody tr th {\n",
       "        vertical-align: top;\n",
       "    }\n",
       "\n",
       "    .dataframe thead th {\n",
       "        text-align: right;\n",
       "    }\n",
       "</style>\n",
       "<table border=\"1\" class=\"dataframe\">\n",
       "  <thead>\n",
       "    <tr style=\"text-align: right;\">\n",
       "      <th></th>\n",
       "      <th>year</th>\n",
       "      <th>month</th>\n",
       "      <th>pagecount_all_views</th>\n",
       "      <th>pagecount_desktop_views</th>\n",
       "      <th>pagecount_mobile_views</th>\n",
       "      <th>pageview_all_views</th>\n",
       "      <th>pageview_desktop_views</th>\n",
       "      <th>pageview_mobile_views</th>\n",
       "    </tr>\n",
       "  </thead>\n",
       "  <tbody>\n",
       "    <tr>\n",
       "      <th>0</th>\n",
       "      <td>2008</td>\n",
       "      <td>01</td>\n",
       "      <td>4930902570</td>\n",
       "      <td>4930902570</td>\n",
       "      <td>0</td>\n",
       "      <td>0</td>\n",
       "      <td>0</td>\n",
       "      <td>0</td>\n",
       "    </tr>\n",
       "    <tr>\n",
       "      <th>1</th>\n",
       "      <td>2008</td>\n",
       "      <td>02</td>\n",
       "      <td>4818393763</td>\n",
       "      <td>4818393763</td>\n",
       "      <td>0</td>\n",
       "      <td>0</td>\n",
       "      <td>0</td>\n",
       "      <td>0</td>\n",
       "    </tr>\n",
       "    <tr>\n",
       "      <th>2</th>\n",
       "      <td>2008</td>\n",
       "      <td>03</td>\n",
       "      <td>4955405809</td>\n",
       "      <td>4955405809</td>\n",
       "      <td>0</td>\n",
       "      <td>0</td>\n",
       "      <td>0</td>\n",
       "      <td>0</td>\n",
       "    </tr>\n",
       "    <tr>\n",
       "      <th>3</th>\n",
       "      <td>2008</td>\n",
       "      <td>04</td>\n",
       "      <td>5159162183</td>\n",
       "      <td>5159162183</td>\n",
       "      <td>0</td>\n",
       "      <td>0</td>\n",
       "      <td>0</td>\n",
       "      <td>0</td>\n",
       "    </tr>\n",
       "    <tr>\n",
       "      <th>4</th>\n",
       "      <td>2008</td>\n",
       "      <td>05</td>\n",
       "      <td>5584691092</td>\n",
       "      <td>5584691092</td>\n",
       "      <td>0</td>\n",
       "      <td>0</td>\n",
       "      <td>0</td>\n",
       "      <td>0</td>\n",
       "    </tr>\n",
       "    <tr>\n",
       "      <th>...</th>\n",
       "      <td>...</td>\n",
       "      <td>...</td>\n",
       "      <td>...</td>\n",
       "      <td>...</td>\n",
       "      <td>...</td>\n",
       "      <td>...</td>\n",
       "      <td>...</td>\n",
       "      <td>...</td>\n",
       "    </tr>\n",
       "    <tr>\n",
       "      <th>159</th>\n",
       "      <td>2021</td>\n",
       "      <td>04</td>\n",
       "      <td>0</td>\n",
       "      <td>0</td>\n",
       "      <td>0</td>\n",
       "      <td>7641809575</td>\n",
       "      <td>2882714492</td>\n",
       "      <td>4759095083</td>\n",
       "    </tr>\n",
       "    <tr>\n",
       "      <th>160</th>\n",
       "      <td>2021</td>\n",
       "      <td>05</td>\n",
       "      <td>0</td>\n",
       "      <td>0</td>\n",
       "      <td>0</td>\n",
       "      <td>7800995735</td>\n",
       "      <td>2824416177</td>\n",
       "      <td>4976579558</td>\n",
       "    </tr>\n",
       "    <tr>\n",
       "      <th>161</th>\n",
       "      <td>2021</td>\n",
       "      <td>06</td>\n",
       "      <td>0</td>\n",
       "      <td>0</td>\n",
       "      <td>0</td>\n",
       "      <td>7090481783</td>\n",
       "      <td>2505971366</td>\n",
       "      <td>4584510417</td>\n",
       "    </tr>\n",
       "    <tr>\n",
       "      <th>162</th>\n",
       "      <td>2021</td>\n",
       "      <td>07</td>\n",
       "      <td>0</td>\n",
       "      <td>0</td>\n",
       "      <td>0</td>\n",
       "      <td>7544493789</td>\n",
       "      <td>2765584368</td>\n",
       "      <td>4778909421</td>\n",
       "    </tr>\n",
       "    <tr>\n",
       "      <th>163</th>\n",
       "      <td>2021</td>\n",
       "      <td>08</td>\n",
       "      <td>0</td>\n",
       "      <td>0</td>\n",
       "      <td>0</td>\n",
       "      <td>7495607934</td>\n",
       "      <td>2763413934</td>\n",
       "      <td>4732194000</td>\n",
       "    </tr>\n",
       "  </tbody>\n",
       "</table>\n",
       "<p>164 rows × 8 columns</p>\n",
       "</div>"
      ],
      "text/plain": [
       "     year month  pagecount_all_views  pagecount_desktop_views  \\\n",
       "0    2008    01           4930902570               4930902570   \n",
       "1    2008    02           4818393763               4818393763   \n",
       "2    2008    03           4955405809               4955405809   \n",
       "3    2008    04           5159162183               5159162183   \n",
       "4    2008    05           5584691092               5584691092   \n",
       "..    ...   ...                  ...                      ...   \n",
       "159  2021    04                    0                        0   \n",
       "160  2021    05                    0                        0   \n",
       "161  2021    06                    0                        0   \n",
       "162  2021    07                    0                        0   \n",
       "163  2021    08                    0                        0   \n",
       "\n",
       "     pagecount_mobile_views  pageview_all_views  pageview_desktop_views  \\\n",
       "0                         0                   0                       0   \n",
       "1                         0                   0                       0   \n",
       "2                         0                   0                       0   \n",
       "3                         0                   0                       0   \n",
       "4                         0                   0                       0   \n",
       "..                      ...                 ...                     ...   \n",
       "159                       0          7641809575              2882714492   \n",
       "160                       0          7800995735              2824416177   \n",
       "161                       0          7090481783              2505971366   \n",
       "162                       0          7544493789              2765584368   \n",
       "163                       0          7495607934              2763413934   \n",
       "\n",
       "     pageview_mobile_views  \n",
       "0                        0  \n",
       "1                        0  \n",
       "2                        0  \n",
       "3                        0  \n",
       "4                        0  \n",
       "..                     ...  \n",
       "159             4759095083  \n",
       "160             4976579558  \n",
       "161             4584510417  \n",
       "162             4778909421  \n",
       "163             4732194000  \n",
       "\n",
       "[164 rows x 8 columns]"
      ]
     },
     "execution_count": 14,
     "metadata": {},
     "output_type": "execute_result"
    }
   ],
   "source": [
    "data_merged.astype({'pagecount_all_views': 'int',\n",
    "                   'pagecount_desktop_views': 'int',\n",
    "                   'pagecount_mobile_views': 'int',\n",
    "                   'pageview_all_views': 'int',\n",
    "                   'pageview_desktop_views': 'int',\n",
    "                   'pageview_mobile_views': 'int'})"
   ]
  },
  {
   "cell_type": "markdown",
   "id": "991f3d5f",
   "metadata": {},
   "source": [
    "### 4. Combile all data in one file for analysis. "
   ]
  },
  {
   "cell_type": "code",
   "execution_count": 15,
   "id": "f2933e96",
   "metadata": {},
   "outputs": [],
   "source": [
    "data_merged.to_csv(\"en-wikipedia_traffic_200712-202108.csv\", index=False)"
   ]
  },
  {
   "cell_type": "markdown",
   "id": "853b8666",
   "metadata": {},
   "source": [
    "# Step - 3 - Analysis¶\n",
    "\n",
    "Here we will plot the time series graph of the site traffic data, showing mobile, desktop and all (Mobile + Desktop) combined data.\n",
    "\n",
    "To visualize the data, the matplotlib python library is used. "
   ]
  },
  {
   "cell_type": "code",
   "execution_count": 16,
   "id": "4b36acee",
   "metadata": {},
   "outputs": [],
   "source": [
    "import matplotlib.pyplot as plt  \n",
    "from matplotlib.pyplot import figure"
   ]
  },
  {
   "cell_type": "code",
   "execution_count": 17,
   "id": "157f1b15",
   "metadata": {},
   "outputs": [],
   "source": [
    "data_merged['date'] = data_merged['year'].astype(str) + data_merged['month'].astype(str)\n",
    "dates = pd.to_datetime(data_merged['date'],format='%Y%m')"
   ]
  },
  {
   "cell_type": "code",
   "execution_count": 18,
   "id": "bf738969",
   "metadata": {},
   "outputs": [
    {
     "data": {
      "text/plain": [
       "<matplotlib.legend.Legend at 0x7f8edda02c10>"
      ]
     },
     "execution_count": 18,
     "metadata": {},
     "output_type": "execute_result"
    },
    {
     "data": {
      "image/png": "[encoded data removed]",
      "text/plain": [
       "<Figure size 1200x400 with 1 Axes>"
      ]
     },
     "metadata": {
      "needs_background": "light"
     },
     "output_type": "display_data"
    }
   ],
   "source": [
    "figure(figsize=(15, 5), dpi=80)\n",
    "\n",
    "plt.grid(True)\n",
    "plt.plot(dates, data_merged['pagecount_desktop_views']/1e6, color='seagreen', label='Desktop')\n",
    "plt.plot(dates, data_merged['pagecount_mobile_views']/1e6, color='blue', label='Mobile')\n",
    "plt.plot(dates, data_merged['pagecount_all_views']/1e6, color='sienna', label='Total')\n",
    "\n",
    "plt.plot(dates, data_merged['pageview_desktop_views']/1e6, color='seagreen', linestyle=\"--\", label='Desktop')\n",
    "plt.plot(dates, data_merged['pageview_mobile_views']/1e6, color='blue', linestyle=\"--\", label='Mobile')\n",
    "plt.plot(dates, data_merged['pageview_all_views']/1e6, color='sienna', linestyle=\"--\", label='Total')\n",
    "\n",
    "plt.xlabel('Date')\n",
    "plt.ylabel('Wikipedia Page views (millions)')\n",
    "plt.title('Monthly Page views on Wikipedia from 2008 - 2021')\n",
    "\n",
    "plt.savefig('wikipedia_page_views_vizualtization.png')\n",
    "plt.legend(loc=2)"
   ]
  },
  {
   "cell_type": "markdown",
   "id": "a904695a",
   "metadata": {},
   "source": [
    "###  We can see a linear increase in the number of views from 2008 until 2021. With the advent of mobile site (blue dotted line) we can see a decrease in the pageviews of the desktop site (green dotted line)."
   ]
  }
 ],
 "metadata": {
  "kernelspec": {
   "display_name": "Python 3 (ipykernel)",
   "language": "python",
   "name": "python3"
  },
  "language_info": {
   "codemirror_mode": {
    "name": "ipython",
    "version": 3
   },
   "file_extension": ".py",
   "mimetype": "text/x-python",
   "name": "python",
   "nbconvert_exporter": "python",
   "pygments_lexer": "ipython3",
   "version": "3.9.1"
  }
 },
 "nbformat": 4,
 "nbformat_minor": 5
}

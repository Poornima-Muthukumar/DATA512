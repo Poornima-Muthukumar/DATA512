{
 "cells": [
  {
   "cell_type": "code",
   "execution_count": 5,
   "id": "8d773070",
   "metadata": {},
   "outputs": [],
   "source": [
    "import pandas as pd\n",
    "import numpy as np\n",
    "import json"
   ]
  },
  {
   "cell_type": "markdown",
   "id": "45a9748e",
   "metadata": {},
   "source": [
    "### Read politicians article data"
   ]
  },
  {
   "cell_type": "code",
   "execution_count": 7,
   "id": "931fd87f",
   "metadata": {},
   "outputs": [],
   "source": [
    "politicians = pd.read_csv('page_data.csv')"
   ]
  },
  {
   "cell_type": "markdown",
   "id": "6c130347",
   "metadata": {},
   "source": [
    "### Read population data "
   ]
  },
  {
   "cell_type": "code",
   "execution_count": 8,
   "id": "05624f17",
   "metadata": {},
   "outputs": [],
   "source": [
    "population = pd.read_csv(\"WPDS_2020_data.csv\")"
   ]
  },
  {
   "cell_type": "code",
   "execution_count": null,
   "id": "04be9258",
   "metadata": {},
   "outputs": [],
   "source": []
  }
 ],
 "metadata": {
  "kernelspec": {
   "display_name": "Python 3 (ipykernel)",
   "language": "python",
   "name": "python3"
  },
  "language_info": {
   "codemirror_mode": {
    "name": "ipython",
    "version": 3
   },
   "file_extension": ".py",
   "mimetype": "text/x-python",
   "name": "python",
   "nbconvert_exporter": "python",
   "pygments_lexer": "ipython3",
   "version": "3.9.1"
  }
 },
 "nbformat": 4,
 "nbformat_minor": 5
}
